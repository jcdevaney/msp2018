{
 "cells": [
  {
   "cell_type": "markdown",
   "metadata": {},
   "source": [
    "## Some simple F0 estimation methods, implemented by https://gist.github.com/endolith/255291"
   ]
  },
  {
   "cell_type": "code",
   "execution_count": 1,
   "metadata": {},
   "outputs": [
    {
     "name": "stderr",
     "output_type": "stream",
     "text": [
      "/Users/jcdevaney/anaconda3/lib/python3.6/site-packages/ipykernel_launcher.py:51: MatplotlibDeprecationWarning: pyplot.hold is deprecated.\n",
      "    Future behavior will be consistent with the long-time default:\n",
      "    plot commands add elements without first clearing the\n",
      "    Axes and/or Figure.\n",
      "/Users/jcdevaney/anaconda3/lib/python3.6/site-packages/matplotlib/__init__.py:805: MatplotlibDeprecationWarning: axes.hold is deprecated. Please remove it from your matplotlibrc and/or style files.\n",
      "  mplDeprecation)\n",
      "/Users/jcdevaney/anaconda3/lib/python3.6/site-packages/matplotlib/rcsetup.py:155: MatplotlibDeprecationWarning: axes.hold is deprecated, will be removed in 3.0\n",
      "  mplDeprecation)\n"
     ]
    }
   ],
   "source": [
    "from __future__ import division\n",
    "from numpy import polyfit, arange\n",
    "\n",
    "def parabolic(f, x):\n",
    "    \"\"\"Quadratic interpolation for estimating the true position of an\n",
    "    inter-sample maximum when nearby samples are known.\n",
    "   \n",
    "    f is a vector and x is an index for that vector.\n",
    "   \n",
    "    Returns (vx, vy), the coordinates of the vertex of a parabola that goes\n",
    "    through point x and its two neighbors.\n",
    "   \n",
    "    Example:\n",
    "    Defining a vector f with a local maximum at index 3 (= 6), find local\n",
    "    maximum if points 2, 3, and 4 actually defined a parabola.\n",
    "   \n",
    "    In [3]: f = [2, 3, 1, 6, 4, 2, 3, 1]\n",
    "   \n",
    "    In [4]: parabolic(f, argmax(f))\n",
    "    Out[4]: (3.2142857142857144, 6.1607142857142856)\n",
    "   \n",
    "    \"\"\"\n",
    "    xv = 1/2. * (f[x-1] - f[x+1]) / (f[x-1] - 2 * f[x] + f[x+1]) + x\n",
    "    yv = f[x] - 1/4. * (f[x-1] - f[x+1]) * (xv - x)\n",
    "    return (xv, yv)\n",
    "\n",
    "\n",
    "def parabolic_polyfit(f, x, n):\n",
    "    \"\"\"Use the built-in polyfit() function to find the peak of a parabola\n",
    "    \n",
    "    f is a vector and x is an index for that vector.\n",
    "    \n",
    "    n is the number of samples of the curve used to fit the parabola.\n",
    "    \"\"\"    \n",
    "    a, b, c = polyfit(arange(x-n//2, x+n//2+1), f[x-n//2:x+n//2+1], 2)\n",
    "    xv = -0.5 * b/a\n",
    "    yv = a * xv**2 + b * xv + c\n",
    "    return (xv, yv)\n",
    "\n",
    "\n",
    "if __name__==\"__main__\":\n",
    "    from numpy import argmax\n",
    "    import matplotlib.pyplot as plt\n",
    "    \n",
    "    y = [2, 1, 4, 8, 11, 10, 7, 3, 1, 1]\n",
    "    \n",
    "    xm, ym = argmax(y), y[argmax(y)]\n",
    "    xp, yp = parabolic(y, argmax(y))\n",
    "    \n",
    "    plot = plt.plot(y)\n",
    "    plt.hold(True)\n",
    "    plt.plot(xm, ym, 'o', color='silver')\n",
    "    plt.plot(xp, yp, 'o', color='blue')\n",
    "    plt.title('silver = max, blue = estimated max')\n"
   ]
  },
  {
   "cell_type": "code",
   "execution_count": 2,
   "metadata": {},
   "outputs": [],
   "source": [
    "from __future__ import division\n",
    "from numpy.fft import rfft\n",
    "from numpy import argmax, mean, diff, log\n",
    "from matplotlib.mlab import find\n",
    "from scipy.signal import blackmanharris, fftconvolve\n",
    "from time import time\n",
    "import sys\n",
    "try:\n",
    "    import soundfile as sf\n",
    "except ImportError:\n",
    "    from scikits.audiolab import flacread"
   ]
  },
  {
   "cell_type": "code",
   "execution_count": 3,
   "metadata": {},
   "outputs": [],
   "source": [
    "def freq_from_crossings(sig, fs):\n",
    "    \"\"\"\n",
    "    Estimate frequency by counting zero crossings\n",
    "    \"\"\"\n",
    "    # Find all indices right before a rising-edge zero crossing\n",
    "    indices = find((sig[1:] >= 0) & (sig[:-1] < 0))\n",
    "\n",
    "    # Naive (Measures 1000.185 Hz for 1000 Hz, for instance)\n",
    "    # crossings = indices\n",
    "\n",
    "    # More accurate, using linear interpolation to find intersample\n",
    "    # zero-crossings (Measures 1000.000129 Hz for 1000 Hz, for instance)\n",
    "    crossings = [i - sig[i] / (sig[i+1] - sig[i]) for i in indices]\n",
    "\n",
    "    # Some other interpolation based on neighboring points might be better.\n",
    "    # Spline, cubic, whatever\n",
    "\n",
    "    return fs / mean(diff(crossings))"
   ]
  },
  {
   "cell_type": "code",
   "execution_count": 4,
   "metadata": {},
   "outputs": [],
   "source": [
    "def freq_from_fft(sig, fs):\n",
    "    \"\"\"\n",
    "    Estimate frequency from peak of FFT\n",
    "    \"\"\"\n",
    "    # Compute Fourier transform of windowed signal\n",
    "    windowed = sig * blackmanharris(len(sig))\n",
    "    f = rfft(windowed)\n",
    "\n",
    "    # Find the peak and interpolate to get a more accurate peak\n",
    "    i = argmax(abs(f))  # Just use this for less-accurate, naive version\n",
    "    true_i = parabolic(log(abs(f)), i)[0]\n",
    "\n",
    "    # Convert to equivalent frequency\n",
    "    return fs * true_i / len(windowed)"
   ]
  },
  {
   "cell_type": "code",
   "execution_count": 5,
   "metadata": {},
   "outputs": [],
   "source": [
    "def freq_from_autocorr(sig, fs):\n",
    "    \"\"\"\n",
    "    Estimate frequency using autocorrelation\n",
    "    \"\"\"\n",
    "    # Calculate autocorrelation (same thing as convolution, but with\n",
    "    # one input reversed in time), and throw away the negative lags\n",
    "    corr = fftconvolve(sig, sig[::-1], mode='full')\n",
    "    corr = corr[len(corr)//2:]\n",
    "\n",
    "    # Find the first low point\n",
    "    d = diff(corr)\n",
    "    start = find(d > 0)[0]\n",
    "\n",
    "    # Find the next peak after the low point (other than 0 lag).  This bit is\n",
    "    # not reliable for long signals, due to the desired peak occurring between\n",
    "    # samples, and other peaks appearing higher.\n",
    "    # Should use a weighting function to de-emphasize the peaks at longer lags.\n",
    "    peak = argmax(corr[start:]) + start\n",
    "    px, py = parabolic(corr, peak)\n",
    "\n",
    "    return fs / px"
   ]
  },
  {
   "cell_type": "code",
   "execution_count": 30,
   "metadata": {},
   "outputs": [
    {
     "name": "stdout",
     "output_type": "stream",
     "text": [
      "Reading file \"avmA.wav\"\n",
      "\n",
      "Calculating frequency from FFT:\n",
      "895.650467 Hz\n",
      "Time elapsed: 0.044 s\n",
      "\n",
      "Calculating frequency from zero crossings:\n",
      "910.090770 Hz\n",
      "Time elapsed: 0.013 s\n",
      "\n",
      "Calculating frequency from autocorrelation:\n",
      "456.347687 Hz\n",
      "Time elapsed: 0.024 s\n",
      "\n"
     ]
    }
   ],
   "source": [
    "#filename = sys.argv[1]\n",
    "filename='avmA.wav'\n",
    "\n",
    "print('Reading file \"%s\"\\n' % filename)\n",
    "try:\n",
    "    signal, fs = sf.read(filename)\n",
    "except NameError:\n",
    "    signal, fs, enc = flacread(filename)\n",
    "\n",
    "print('Calculating frequency from FFT:'),\n",
    "start_time = time()\n",
    "print('%f Hz' % freq_from_fft(signal, fs))\n",
    "print('Time elapsed: %.3f s\\n' % (time() - start_time))\n",
    "\n",
    "print('Calculating frequency from zero crossings:'),\n",
    "start_time = time()\n",
    "print('%f Hz' % freq_from_crossings(signal, fs))\n",
    "print('Time elapsed: %.3f s\\n' % (time() - start_time))\n",
    "\n",
    "print('Calculating frequency from autocorrelation:'),\n",
    "start_time = time()\n",
    "print('%f Hz' % freq_from_autocorr(signal, fs))\n",
    "print('Time elapsed: %.3f s\\n' % (time() - start_time))"
   ]
  },
  {
   "cell_type": "markdown",
   "metadata": {},
   "source": [
    "## YIN algorithm, implemented in Aubio: https://aubio.org/"
   ]
  },
  {
   "cell_type": "code",
   "execution_count": 8,
   "metadata": {},
   "outputs": [],
   "source": [
    "import matplotlib.pyplot as plt\n",
    "import numpy as np\n",
    "import aubio"
   ]
  },
  {
   "cell_type": "code",
   "execution_count": 27,
   "metadata": {},
   "outputs": [],
   "source": [
    "# YIN pitches\n",
    "filename='avmA.wav'\n",
    "downsample = 1\n",
    "samplerate = 0\n",
    "win_s = 1764 // downsample # fft size\n",
    "hop_s = 441 // downsample # hop size\n",
    "s = aubio.source(filename, samplerate, hop_s)\n",
    "samplerate = s.samplerate\n",
    "tolerance = 0.1\n",
    "\n",
    "start_time = time()\n",
    "pitch_o = aubio.pitch(\"yin\", win_s, hop_s, samplerate) \n",
    "#pitch_o.set_unit(\"midi\")\n",
    "pitch_o.set_tolerance(tolerance)\n",
    "\n",
    "pitchesYIN = []\n",
    "confidences = [] \n",
    "total_frames = 0\n",
    "while True:\n",
    "    samples, read = s()\n",
    "    pitch = pitch_o(samples)[0]\n",
    "    pitch = int(round(pitch))\n",
    "    confidence = pitch_o.get_confidence()\n",
    "    pitchesYIN += [pitch]\n",
    "    confidences += [confidence]\n",
    "    total_frames += read\n",
    "    if read < hop_s:\n",
    "         break        \n",
    "stop_time = time()            "
   ]
  },
  {
   "cell_type": "code",
   "execution_count": 28,
   "metadata": {},
   "outputs": [
    {
     "name": "stdout",
     "output_type": "stream",
     "text": [
      "Calculating frequency from YIN:\n",
      "453.268966 Hz\n",
      "Time elapsed: 0.042 s\n",
      "\n"
     ]
    }
   ],
   "source": [
    "print('Calculating frequency from YIN:'),\n",
    "print('%f Hz' % mean(pitchesYIN))\n",
    "print('Time elapsed: %.3f s\\n' % (stop_time - start_time))"
   ]
  },
  {
   "cell_type": "code",
   "execution_count": 29,
   "metadata": {},
   "outputs": [
    {
     "data": {
      "text/plain": [
       "<matplotlib.legend.Legend at 0x1c179d7ba8>"
      ]
     },
     "execution_count": 29,
     "metadata": {},
     "output_type": "execute_result"
    },
    {
     "data": {
      "image/png": "[encoded data removed]",
      "text/plain": [
       "<matplotlib.figure.Figure at 0x1c17b474e0>"
      ]
     },
     "metadata": {},
     "output_type": "display_data"
    }
   ],
   "source": [
    "fig, (ax1) = plt.subplots(1, 1, sharex=True, sharey=True, figsize=(12, 8))\n",
    "ax1.plot(np.asarray(pitchesYIN), label='YIN', color='green')\n",
    "ax1.legend(loc=\"upper right\")"
   ]
  },
  {
   "cell_type": "code",
   "execution_count": null,
   "metadata": {},
   "outputs": [],
   "source": []
  }
 ],
 "metadata": {
  "kernelspec": {
   "display_name": "Python 3",
   "language": "python",
   "name": "python3"
  },
  "language_info": {
   "codemirror_mode": {
    "name": "ipython",
    "version": 3
   },
   "file_extension": ".py",
   "mimetype": "text/x-python",
   "name": "python",
   "nbconvert_exporter": "python",
   "pygments_lexer": "ipython3",
   "version": "3.6.4"
  }
 },
 "nbformat": 4,
 "nbformat_minor": 2
}
